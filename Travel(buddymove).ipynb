{
 "cells": [
  {
   "cell_type": "code",
   "execution_count": 1,
   "metadata": {},
   "outputs": [
    {
     "data": {
      "text/html": [
       "<div>\n",
       "<style scoped>\n",
       "    .dataframe tbody tr th:only-of-type {\n",
       "        vertical-align: middle;\n",
       "    }\n",
       "\n",
       "    .dataframe tbody tr th {\n",
       "        vertical-align: top;\n",
       "    }\n",
       "\n",
       "    .dataframe thead th {\n",
       "        text-align: right;\n",
       "    }\n",
       "</style>\n",
       "<table border=\"1\" class=\"dataframe\">\n",
       "  <thead>\n",
       "    <tr style=\"text-align: right;\">\n",
       "      <th></th>\n",
       "      <th>User Id</th>\n",
       "      <th>Sports</th>\n",
       "      <th>Religious</th>\n",
       "      <th>Nature</th>\n",
       "      <th>Theatre</th>\n",
       "      <th>Shopping</th>\n",
       "      <th>Picnic</th>\n",
       "    </tr>\n",
       "  </thead>\n",
       "  <tbody>\n",
       "    <tr>\n",
       "      <th>0</th>\n",
       "      <td>User 1</td>\n",
       "      <td>2</td>\n",
       "      <td>77</td>\n",
       "      <td>79</td>\n",
       "      <td>69</td>\n",
       "      <td>68</td>\n",
       "      <td>95</td>\n",
       "    </tr>\n",
       "    <tr>\n",
       "      <th>1</th>\n",
       "      <td>User 2</td>\n",
       "      <td>2</td>\n",
       "      <td>62</td>\n",
       "      <td>76</td>\n",
       "      <td>76</td>\n",
       "      <td>69</td>\n",
       "      <td>68</td>\n",
       "    </tr>\n",
       "    <tr>\n",
       "      <th>2</th>\n",
       "      <td>User 3</td>\n",
       "      <td>2</td>\n",
       "      <td>50</td>\n",
       "      <td>97</td>\n",
       "      <td>87</td>\n",
       "      <td>50</td>\n",
       "      <td>75</td>\n",
       "    </tr>\n",
       "    <tr>\n",
       "      <th>3</th>\n",
       "      <td>User 4</td>\n",
       "      <td>2</td>\n",
       "      <td>68</td>\n",
       "      <td>77</td>\n",
       "      <td>95</td>\n",
       "      <td>76</td>\n",
       "      <td>61</td>\n",
       "    </tr>\n",
       "    <tr>\n",
       "      <th>4</th>\n",
       "      <td>User 5</td>\n",
       "      <td>2</td>\n",
       "      <td>98</td>\n",
       "      <td>54</td>\n",
       "      <td>59</td>\n",
       "      <td>95</td>\n",
       "      <td>86</td>\n",
       "    </tr>\n",
       "  </tbody>\n",
       "</table>\n",
       "</div>"
      ],
      "text/plain": [
       "  User Id  Sports  Religious  Nature  Theatre  Shopping  Picnic\n",
       "0  User 1       2         77      79       69        68      95\n",
       "1  User 2       2         62      76       76        69      68\n",
       "2  User 3       2         50      97       87        50      75\n",
       "3  User 4       2         68      77       95        76      61\n",
       "4  User 5       2         98      54       59        95      86"
      ]
     },
     "execution_count": 1,
     "metadata": {},
     "output_type": "execute_result"
    }
   ],
   "source": [
    "#reading the data\n",
    "import pandas as pd\n",
    "data= pd.read_csv('buddymove_holidayiq.csv')\n",
    "data.head()"
   ]
  },
  {
   "cell_type": "code",
   "execution_count": 2,
   "metadata": {},
   "outputs": [
    {
     "data": {
      "text/html": [
       "<div>\n",
       "<style scoped>\n",
       "    .dataframe tbody tr th:only-of-type {\n",
       "        vertical-align: middle;\n",
       "    }\n",
       "\n",
       "    .dataframe tbody tr th {\n",
       "        vertical-align: top;\n",
       "    }\n",
       "\n",
       "    .dataframe thead th {\n",
       "        text-align: right;\n",
       "    }\n",
       "</style>\n",
       "<table border=\"1\" class=\"dataframe\">\n",
       "  <thead>\n",
       "    <tr style=\"text-align: right;\">\n",
       "      <th></th>\n",
       "      <th>Sports</th>\n",
       "      <th>Religious</th>\n",
       "      <th>Nature</th>\n",
       "      <th>Theatre</th>\n",
       "      <th>Shopping</th>\n",
       "      <th>Picnic</th>\n",
       "    </tr>\n",
       "  </thead>\n",
       "  <tbody>\n",
       "    <tr>\n",
       "      <th>count</th>\n",
       "      <td>249.000000</td>\n",
       "      <td>249.000000</td>\n",
       "      <td>249.000000</td>\n",
       "      <td>249.000000</td>\n",
       "      <td>249.000000</td>\n",
       "      <td>249.000000</td>\n",
       "    </tr>\n",
       "    <tr>\n",
       "      <th>mean</th>\n",
       "      <td>11.987952</td>\n",
       "      <td>109.779116</td>\n",
       "      <td>124.518072</td>\n",
       "      <td>116.377510</td>\n",
       "      <td>112.638554</td>\n",
       "      <td>120.401606</td>\n",
       "    </tr>\n",
       "    <tr>\n",
       "      <th>std</th>\n",
       "      <td>6.616501</td>\n",
       "      <td>32.454115</td>\n",
       "      <td>45.639372</td>\n",
       "      <td>32.132696</td>\n",
       "      <td>41.562888</td>\n",
       "      <td>32.633339</td>\n",
       "    </tr>\n",
       "    <tr>\n",
       "      <th>min</th>\n",
       "      <td>2.000000</td>\n",
       "      <td>50.000000</td>\n",
       "      <td>52.000000</td>\n",
       "      <td>59.000000</td>\n",
       "      <td>50.000000</td>\n",
       "      <td>61.000000</td>\n",
       "    </tr>\n",
       "    <tr>\n",
       "      <th>25%</th>\n",
       "      <td>6.000000</td>\n",
       "      <td>84.000000</td>\n",
       "      <td>89.000000</td>\n",
       "      <td>93.000000</td>\n",
       "      <td>79.000000</td>\n",
       "      <td>92.000000</td>\n",
       "    </tr>\n",
       "    <tr>\n",
       "      <th>50%</th>\n",
       "      <td>12.000000</td>\n",
       "      <td>104.000000</td>\n",
       "      <td>119.000000</td>\n",
       "      <td>113.000000</td>\n",
       "      <td>104.000000</td>\n",
       "      <td>119.000000</td>\n",
       "    </tr>\n",
       "    <tr>\n",
       "      <th>75%</th>\n",
       "      <td>18.000000</td>\n",
       "      <td>132.000000</td>\n",
       "      <td>153.000000</td>\n",
       "      <td>138.000000</td>\n",
       "      <td>138.000000</td>\n",
       "      <td>143.000000</td>\n",
       "    </tr>\n",
       "    <tr>\n",
       "      <th>max</th>\n",
       "      <td>25.000000</td>\n",
       "      <td>203.000000</td>\n",
       "      <td>318.000000</td>\n",
       "      <td>213.000000</td>\n",
       "      <td>233.000000</td>\n",
       "      <td>218.000000</td>\n",
       "    </tr>\n",
       "  </tbody>\n",
       "</table>\n",
       "</div>"
      ],
      "text/plain": [
       "           Sports   Religious      Nature     Theatre    Shopping      Picnic\n",
       "count  249.000000  249.000000  249.000000  249.000000  249.000000  249.000000\n",
       "mean    11.987952  109.779116  124.518072  116.377510  112.638554  120.401606\n",
       "std      6.616501   32.454115   45.639372   32.132696   41.562888   32.633339\n",
       "min      2.000000   50.000000   52.000000   59.000000   50.000000   61.000000\n",
       "25%      6.000000   84.000000   89.000000   93.000000   79.000000   92.000000\n",
       "50%     12.000000  104.000000  119.000000  113.000000  104.000000  119.000000\n",
       "75%     18.000000  132.000000  153.000000  138.000000  138.000000  143.000000\n",
       "max     25.000000  203.000000  318.000000  213.000000  233.000000  218.000000"
      ]
     },
     "execution_count": 2,
     "metadata": {},
     "output_type": "execute_result"
    }
   ],
   "source": [
    "data.describe()"
   ]
  },
  {
   "cell_type": "code",
   "execution_count": 3,
   "metadata": {},
   "outputs": [],
   "source": [
    "from sklearn.model_selection import train_test_split\n",
    "feature_columns = ['Picnic','Religious','Nature','Theatre','Shopping']\n",
    "x=data[feature_columns]\n",
    "y=data.Sports"
   ]
  },
  {
   "cell_type": "code",
   "execution_count": 4,
   "metadata": {},
   "outputs": [],
   "source": [
    "x_train, x_test, y_train, y_test = train_test_split(x,y,test_size=0.3,random_state=1)"
   ]
  },
  {
   "cell_type": "code",
   "execution_count": 5,
   "metadata": {},
   "outputs": [
    {
     "name": "stdout",
     "output_type": "stream",
     "text": [
      "Accuracy using Decision Tree:  0.44\n"
     ]
    }
   ],
   "source": [
    "#using decision tree for accuracy of training data\n",
    "from sklearn.tree import DecisionTreeClassifier\n",
    "from sklearn import metrics\n",
    "dtc = DecisionTreeClassifier()\n",
    "dtc= dtc.fit(x_train,y_train)\n",
    "y_pred = dtc.predict(x_test)\n",
    "print(\"Accuracy using Decision Tree: \",metrics.accuracy_score(y_test,y_pred))"
   ]
  },
  {
   "cell_type": "code",
   "execution_count": 6,
   "metadata": {},
   "outputs": [
    {
     "data": {
      "text/plain": [
       "Perceptron(alpha=0.0001, class_weight=None, early_stopping=False, eta0=1.0,\n",
       "           fit_intercept=True, max_iter=1000, n_iter_no_change=5, n_jobs=None,\n",
       "           penalty=None, random_state=0, shuffle=True, tol=0.001,\n",
       "           validation_fraction=0.1, verbose=0, warm_start=False)"
      ]
     },
     "execution_count": 6,
     "metadata": {},
     "output_type": "execute_result"
    }
   ],
   "source": [
    "#using perceptron for accuracy\n",
    "from sklearn.datasets import load_digits\n",
    "from sklearn.linear_model import Perceptron\n",
    "pt = Perceptron(tol=1e-3,random_state=0)\n",
    "pt.fit(x_train, y_train)\n"
   ]
  },
  {
   "cell_type": "code",
   "execution_count": 7,
   "metadata": {},
   "outputs": [
    {
     "name": "stdout",
     "output_type": "stream",
     "text": [
      "Accuracy using Perceptron: 0.09236947791164658\n"
     ]
    }
   ],
   "source": [
    "print(\"Accuracy using Perceptron:\",pt.score(x,y))"
   ]
  },
  {
   "cell_type": "code",
   "execution_count": null,
   "metadata": {},
   "outputs": [],
   "source": []
  }
 ],
 "metadata": {
  "kernelspec": {
   "display_name": "Python 3",
   "language": "python",
   "name": "python3"
  },
  "language_info": {
   "codemirror_mode": {
    "name": "ipython",
    "version": 3
   },
   "file_extension": ".py",
   "mimetype": "text/x-python",
   "name": "python",
   "nbconvert_exporter": "python",
   "pygments_lexer": "ipython3",
   "version": "3.6.8"
  }
 },
 "nbformat": 4,
 "nbformat_minor": 4
}
